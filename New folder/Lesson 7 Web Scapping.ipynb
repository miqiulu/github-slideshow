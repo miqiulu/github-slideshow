{
 "cells": [
  {
   "cell_type": "markdown",
   "metadata": {},
   "source": [
    "# Lesson 7—Fetching data online"
   ]
  },
  {
   "cell_type": "markdown",
   "metadata": {},
   "source": [
    "Version 1.0. Prepared by [Makzan](https://makzan.net). Updated at 2021 March."
   ]
  },
  {
   "cell_type": "markdown",
   "metadata": {},
   "source": [
    "In this series, we will use 3 lectures to learn fetching data online. This includes:\n",
    "\n",
    "- Finding patterns in URL\n",
    "- Open web URL\n",
    "- Downloading files in Python\n",
    "- Fetch data with API\n",
    "- **Web scraping with Requests and BeautifulSoup**\n",
    "- Web automation with Selenium\n",
    "- Converting Wikipedia tabular data into CSV"
   ]
  },
  {
   "cell_type": "markdown",
   "metadata": {},
   "source": [
    "In this lesson, we will learn to download web page and parse the HTML to extract the data we need. We will use `requests` and `BeautifulSoup`. `Requests` downloads the web page HTML file and `BeautifulSoup` parses the HTML into tree structure for us to access and extract data."
   ]
  },
  {
   "cell_type": "markdown",
   "metadata": {},
   "source": [
    "## Web Scraping\n",
    "\n",
    "1. Querying web page\n",
    "1. Parse the DOM tree\n",
    "1. Get the data we want from the HTML code"
   ]
  },
  {
   "cell_type": "code",
   "execution_count": 8,
   "metadata": {},
   "outputs": [
    {
     "name": "stdout",
     "output_type": "stream",
     "text": [
      "2023-04-23\n",
      "2023年04月23日\n",
      "2023-04-23 09:54:27\n",
      "09:54:27\n"
     ]
    }
   ],
   "source": [
    "import datetime\n",
    "\n",
    "print (datetime.date.today().strftime('%Y-%m-%d'))\n",
    "print (datetime.date.today().strftime('%Y年%m月%d日'))\n",
    "print (datetime.datetime.now().strftime('%Y-%m-%d %H:%M:%S'))\n",
    "print (datetime.datetime.now().strftime('%H:%M:%S'))\n"
   ]
  },
  {
   "cell_type": "code",
   "execution_count": 10,
   "metadata": {},
   "outputs": [
    {
     "name": "stdout",
     "output_type": "stream",
     "text": [
      "宣傳視頻\n",
      "紀念《中華人民共和國澳門特別行政區基本法》頒佈三十周年宣傳視頻二\n",
      "紀念《中華人民共和國澳門特別行政區基本法》頒佈三十周年宣傳視頻一\n",
      "勞工局鼓勵企業積極參與“喜見・樂聘”殘疾人士就業配對會\n",
      "「WTT 澳門冠軍賽 2023 ─ 由銀河娛樂集團呈獻」明演冠軍戰 王楚欽馬龍陳夢王曼昱決戰爭冠\n",
      "民防行動中心自5月1日起增加查詢求助熱線電話號碼“113”\n",
      "“水晶魚2023”民防演習 提升本澳應急聯動效能\n",
      "行政長官：澳葡友好合作關係開創新篇章\n",
      "教青局舉辦“織理想･創未來”職業技術教育推廣日\n",
      "經濟財政司司長李偉農帶領澳門企業家代表團參觀位於波爾圖的“旅遊+”項目\n",
      "“水晶魚2023”颱風演習－保安司司長、聯合行動指揮官黃少澤向記者總結演習成效\n",
      "“水晶魚2023”颱風演習－清除路面障礙物\n",
      "“水晶魚2023”颱風演習－警犬隊搜救\n",
      "“水晶魚2023”颱風演習－消防局對颱風期間發生的交通意外事故開展救援行動。\n",
      "【新聞局】行政長官賀一誠在里斯本向傳媒總結葡萄牙訪問行程\n",
      "【新聞局】“水晶魚2023”颱風演習 — 路線2\n",
      "【新聞局】“水晶魚2023”颱風演習 — 路線1\n",
      "【新聞局】行政長官勉勵在葡澳生積極融入國家和澳門發展大局\n",
      "【回顧齊齊葡橫琴站精彩時刻】2023年婆仔屋站將於4月28至30日舉行！\n",
      "【新聞局】行政長官賀一誠出席在里斯本舉行的澳門特別行政區政府招待酒會\n",
      "【新聞局】行政長官與聯合國世界旅遊組織秘書長會面\n",
      "【新聞局】行政長官展開訪葡行程　推介澳門新發展新機遇　促進澳葡經貿旅遊合作\n",
      "【消費者委員會】誠信店講解會 - 澳門美容業商會及離島工商業聯合會專場\n"
     ]
    }
   ],
   "source": [
    "from bs4 import BeautifulSoup\n",
    "import requests\n",
    "\n",
    "\n",
    "res = requests.get(\"https://news.gov.mo/home/zh-hant\")\n",
    "soup = BeautifulSoup(res.text, \"html.parser\")\n",
    "\n",
    "for h5 in soup.select(\"h5\"):\n",
    "    print(h5.text.strip())\n"
   ]
  },
  {
   "cell_type": "markdown",
   "metadata": {},
   "source": [
    "## Extra: Fetching with try-except"
   ]
  },
  {
   "cell_type": "code",
   "execution_count": 36,
   "metadata": {},
   "outputs": [
    {
     "name": "stdout",
     "output_type": "stream",
     "text": [
      "社會工作局新任正副局長就職\n",
      "－記者會快訊（過去兩天澳門居民入境珠海豁免隔離醫學觀察的網上申請系統運作良好）－\n",
      "當事人需就沒有在訴訟程序中適時採取防禦手段承擔後果\n",
      "新型冠狀病毒感染應變協調中心查詢熱線統計數字(6月22日 08:00至16:00)\n",
      "－記者會快訊（北京疫情）－\n",
      "－記者會快訊（出入境及市面情況）－\n",
      "－記者會快訊（6月19-21日共新增354名入境人士須作醫學觀察）－\n",
      "－記者會快訊（有867人在指定酒店作醫學觀察）－\n",
      "托兒所友善措施首日運作暢順\n",
      "－記者會快訊（本澳最新疫情）－\n",
      "“消費補貼計劃”中期報告新聞發佈會\n",
      "行政長官賀一誠與香港特區政府保安局局長李家超一行會面\n",
      "行政長官賀一誠會見澳門理工學院校董會一行\n",
      "澳門歷史名人足跡（攝影：周文來）\n",
      "經香港國際機場返澳的居民今日下午乘坐特別渡輪服務抵達氹仔北安碼頭\n",
      "新城A區B4地段公共房屋建造工程 - 基礎及地庫公開開標\n",
      "【新聞局】消費補貼計劃中期報告新聞發佈會22-06\n",
      "【澳門都市更新股份有限公司】祐漢七棟樓群入戶調查\n",
      "【新聞局】消費補貼計劃中期報告新聞發佈會22-06\n",
      "新型冠狀病毒最新疫情及本澳各項防控措施新聞發佈會(19-06)\n",
      "【新聞局】市政署人員到冷凍倉庫、批發市場和街市採取樣本作新冠病毒核酸檢測\n",
      "【新聞局】經香港國際機場返澳的居民乘搭首班特別渡輪抵達氹仔北安碼頭\n",
      "【新聞局】新型冠狀病毒最新疫情及本澳各項防控措施新聞發佈會(17-06)\n",
      "【新聞局】心出發-遊澳門新聞發佈會16-06\n",
      "【新聞局】新型冠狀病毒最新疫情及本澳各項防控措施新聞發佈會(15-06)\n",
      "【新聞局】行政長官 賀一誠 栽種幼樹 宣揚珍惜大自然\n",
      "\n",
      "\n",
      "\n",
      "\n",
      "焯公亭 記華商 抗疫貢獻\n",
      "夜香行業七十年代式微 垃圾處理三十年前變天\n",
      "病疫影響城市規劃\n",
      "澳門藝術界 為抗疫打氣\n",
      "非強制央積金2020年度預算盈餘特別分配款項名單公佈\n",
      "明起重新開放澳門居民入境珠海豁免隔離預約系統        獲批人士可 7天內入境珠海獲豁免隔離\n",
      "“心出發‧遊澳門”明日起接受報名　冀逐步恢復旅遊業活動\n",
      "－記者會快訊（“心出發‧遊澳門”本地遊活動的統籌及詳情）－\n",
      "明起珠海對本澳合資格人士入境暫不實施集中醫學隔離安排 應變協調中心提醒市民留意獲批的開始日期及提早填報資料\n",
      "百億抗疫援助基金計劃款項6月16日起發放\n",
      "兩項防浸設備資助計劃月杪結束，呼籲商戶如有需要及早申請\n",
      "【圖文包】常住珠海屬內地居民的外地僱員 進入本澳前免14天醫學觀察\n",
      "－記者會快訊（申請豁免隔離入境珠海的網上系統明日重開）－\n",
      "行政長官賀一誠與香港保安局局長李家超會面\n"
     ]
    }
   ],
   "source": [
    "from bs4 import BeautifulSoup\n",
    "import requests\n",
    "\n",
    "try:\n",
    "    res = requests.get(\"https://news.gov.mo/home/zh-hant\")\n",
    "except requests.exceptions.ConnectionError:\n",
    "    print(\"Error: Invalid URL or Connection Lost.\")\n",
    "    exit()\n",
    "\n",
    "soup = BeautifulSoup(res.text, \"html.parser\")\n",
    "\n",
    "for h5 in soup.select(\"h5\"):\n",
    "    print(h5.text.strip())\n"
   ]
  },
  {
   "cell_type": "code",
   "execution_count": 44,
   "metadata": {
    "scrolled": true
   },
   "outputs": [
    {
     "name": "stdout",
     "output_type": "stream",
     "text": [
      "勞工局鼓勵企業積極參與“喜見・樂聘”殘疾人士就業配對會 \n",
      "\n",
      "為推動僱主給予殘疾人士就業機會、鼓勵殘疾人士投入職場。勞工事務局將於本年6月20日在勞工局太平辦事處舉辦“喜見・樂聘”殘疾人士就業配對會。勞工局歡迎企業由4月24日起踴躍報名參與，支持殘疾人士就業。\n",
      "提供配對平台 助殘疾人士就業\n",
      "活動目的旨在透過“喜見・樂聘”的平台，為本澳企業及有就業需求的殘疾人士提供直接面試機會，以提高企業對殘疾人士就業能力的了解和接納，以及增加殘疾人士對就業市場的認識，從而提升殘疾人士的就業機會。\n",
      "收集崗位資料  歡迎企業踴躍參與\n",
      "凡有意招聘殘疾人士的本澳公司、機構或社團，歡迎由4月24日至5月5日期間，登入勞工局“喜見・樂聘”殘疾人士就業配對會專頁https://www.dsal.gov.mo/zh_tw/standard/employment_recruitment_disability_happyrecruit.html報名參加，並提供適合殘疾人士任職的崗位資料，勞工局審閱及統合有關資料後，將上載至活動網頁供求職者應徵。如欲了解及查詢活動詳情，請瀏覽活動專頁或於辦公時間內致電2870 0277／6632 9329聯絡陳小姐。\n",
      "---\n",
      "「WTT 澳門冠軍賽 2023 ─ 由銀河娛樂集團呈獻」明演冠軍戰 王楚欽馬龍陳夢王曼昱決戰爭冠 \n",
      "\n",
      "由體育局、世界乒乓球職業大聯盟(WTT)及銀河娛樂集團主辦、澳門乒乓總會協辦的「WTT 澳門冠軍賽 2023 ─ 由銀河娛樂集團呈獻」，明日（23日）晚上6時起進行冠軍戰，由中國球員包辦男、女單冠軍寶座，衛冕男單的王楚欽將與馬龍爭奪王者寶座，而女單后冠則是陳夢與王曼昱之爭。\n",
      "女單4強，由世界排名第2的王曼昱迎戰王藝迪，兩位球員實力十分接近，王藝迪首局發揮較佳以11比7領先，落後的王曼昱經調節後一口氣連勝兩盤11比9反超前，乘著氣勢再勝11比6拉開局數3比1，之後王藝迪以11比5追近局數2比3，但狀態不俗的王曼昱，手感極佳勝11比4結束賽事，以局數4比2淘汰王藝迪率先闖入決賽。\n",
      "另一場女單戰況，力爭衛冕的孫穎莎今場面對陳夢遇到考驗，首局與陳夢多番拉鋸「刁時」輸14比16落後1局，狀態不俗的陳夢乘勢再以11比6及11比8領先局數3比0，劣勢的孫穎莎第4局試圖急起直追，但早段0比5落後陷入苦戰，最終再輸9比11，局數0比4不敵陳夢無緣決賽，而勝出的陳夢決賽將對王曼昱，力爭后冠。\n",
      "男單4強，衛冕的王楚欽面對日本的張本智和開局雖曾落後0比4，但逐分追趕下戰至8平，其後更以11比9反勝奪取首局；士氣甚佳的王楚欽之後兩局勝11比9及11比7，領先3局奠下晉級基礎，第4局王楚欽靈活多變的打法令張本智和難以招架，大幅領先對手最終贏11比4，結果王楚欽以局數4比0大勝晉級決賽。\n",
      "另一場戰況，馬龍面對淘汰樊振東的法國艾利克斯‧勒布倫未有鬆懈，首局先以11比8領先，落後的艾利克斯‧勒布倫第2局回敬以11比7扳平局分，被追平後的馬龍第三局早段建立領先優勢，拉開8比2分差以11比5再超前局數2比1，隨後兩局馬龍愈戰愈勇再勝兩盤11比8，局數4比1闖入決賽，將與王楚欽爭奪冠軍。\n",
      "有關賽事詳細資料，請瀏覽賽事網頁wttmacao.sport.gov.mo、世界乒乓球職業大聯盟(WTT) 網頁worldtabletennis.com，或關注「澳門體育盛事」Facebook 專頁、「澳門體育」微信公眾號及「澳門特區體育局」微信訂閱號。\n",
      "4月23日男、女子決賽賽程表\n",
      "\n",
      "\n",
      "\n",
      " 4月23日 \n",
      "\n",
      "\n",
      " 女單 \n",
      " 18:00 \n",
      " 陳夢（中國）vs王曼昱（中國） \n",
      "\n",
      "\n",
      " 男單 \n",
      " 19:00 \n",
      " 馬龍（中國）vs王楚欽（中國） \n",
      "\n",
      "\n",
      "\n",
      "4月22日男、女子準決賽成績\n",
      "\n",
      "\n",
      "\n",
      "   \n",
      " 4月22日 \n",
      " 成績 \n",
      "\n",
      "\n",
      " 女單 \n",
      " 王藝迪（中國）vs王曼昱（中國） \n",
      " 2比4 \n",
      "\n",
      "\n",
      " 陳夢（中國）vs 孫穎莎（中國） \n",
      " 4比0 \n",
      "\n",
      "\n",
      " 男單 \n",
      " 張本智和（日本）vs王楚欽（中國） \n",
      " 0比4 \n",
      "\n",
      "\n",
      " 艾利克斯‧勒布倫（法國）vs馬龍（中國） \n",
      " 1比4 \n",
      "\n",
      "\n",
      "\n",
      "---\n",
      "民防行動中心自5月1日起增加查詢求助熱線電話號碼“113” \n",
      "\n",
      "為優化民防工作，自5月1日起，民防行動中心查詢求助熱線將增加電話號碼“113”。市民和旅客可以透過113、8897 0160、8897 0170三個電話號碼致電民防行動中心就民防事務作查詢。\n",
      "目前，民防行動中心查詢求助熱線已增加至24條線，在平日基本運作模式下，由民防行動中心輪值人員接聽；當民防架構啟動期間，會增派接線人員，以更好地為廣大居民提供服務。\n",
      "---\n",
      "“水晶魚2023”民防演習 提升本澳應急聯動效能 \n",
      "\n",
      "隨著本年風季臨近，各項防災工作已相繼開展，民防架構亦於今(22)日舉行代號“水晶魚2023”年度颱風民防演習，目的是強化民防架構應對災害的協同處置能力，深化市民大眾的應急避險和責任意識，以提升本澳整體防災抗災工作的執行效能。演習分三部分進行，包括在民防行動中心演習民防架構啟動期間的各項運作、低窪地區疏散撤離行動以及應對緊急事故的專項演練。\n",
      "演習由保安司司長、聯合行動指揮官黃少澤主持，警察總局局長、輔助聯合行動指揮官梁文昌、澳門海關關長黃文忠，聯同各民防架構部門的主管代表共同參與演習；亦邀請中國人民解放軍駐澳門部隊副參謀長劉歡大校出席，了解本澳防災救災各項工作環節並提供意見；香港保安局副局長卓孝業亦就是次演習率香港代表團來澳進行觀摩訪問，促進兩地在應急救援工作上的溝通交流；演習亦加入社區民防聯絡機制協調成員、民防志願者以及市民的參與，共同為應對本年度的風季作好準備。\n",
      "演習模擬本澳受超強颱風“水晶魚2023”正面吹襲，且受風暴潮影響導致低窪地區嚴重水浸，期間地球物理暨氣象局發出黑色風暴潮警告信號。行政長官根據《民防法律制度》的相關規定，宣佈進入“即時預防狀態”，民防架構同步啟動並開展各項應急預案，以保障公眾的生命財產安全。過程中啟動“颱風期間風暴潮低窪地區疏散撤離計劃”，由澳門海關、治安警察局、司法警察局、消防局以及澳門保安部隊高等學校組成的撤離隊伍分佈本澳各低窪地區，與市民共同執行撤離演練，讓各區市民熟悉低窪地方的撤離路線和避險方式；同時，進行了多項應急救援演練，包括: 颱風期間交通事故、山體崩塌、警犬搜救、水上拯救、打通主幹道，以及危機談判等事件，透過實地演練，讓各執行部門熟悉應急操作流程，並檢視救援方案的效果；此外，民防行動中心亦透過演習的溝通流程，檢視各項通報機制，協同提升工作成效；亦為“低窪地區排查及撤離系統”及“應急指揮應用平台”的更新功能進行了測試，讓系統功能日益完善。\n",
      "是次演習歷時4小時30分，共模擬了50項颱風期間可能發生的事故，參與成員除包括各個民防架構成員外，亦包括52個民間團體及全澳非高等教育學校，參與總人數逾2300人(當中包括民防志願者29名，報名參與的市民453名，實際出席的市民共386名)，涉及總疏散撤離戶數逾3000戶。\n",
      "保安司司長、聯合行動指揮官黃少澤為演習作總結，認為演習過程整體順利，重點測試項目均達到預期效果，並表示隨著氣候持續變化，面對嚴重自然災害的風險逐年增多，根據地球物理暨氣象局的氣象預測，今年不排除出現“強颱風”或以上級別颱風影響本澳，指示各民防架構成員時刻提高警惕，及早作好準備，在各自的職能上繼續推動各項防災減災工作；並就演練過程中所發現的問題和不足情況盡快進行檢討和完善，由警察總局開展總體評估，及對有關的專項應變計劃進行修訂，將自然災害所可能帶來的影響和損失減至最低。\n",
      "及後，黃少澤司長感謝駐澳部隊長期以來對民防工作的支持和幫助，並給予寶貴意見，使民防工作日益進步；同時，感謝廣大市民、社團、機構積極參與是次民防演練；感謝傳媒朋友的配合，協助將民防工作相關資訊向公眾發佈；亦感謝前線同事的付出，憑藉各單位同心協力，令是次演練順利完成。\n",
      "參與演習的社會團體、學校及機構包括(排名不分先後)﹕澳門街坊會聯合總會、澳門工會聯合總會、澳門婦女聯合總會、民眾建澳聯盟、澳門志願者總會、澳門物業管理業商會、中華總商會青年委員會、中華學生聯合總會、澳門社會民生促進會、澳門中華新青年協會、澳門建造商會、澳門建築機械工程商會、中國建築(澳門)工程有限公司、澳門歸僑總會、澳門明愛、澳門基督教青年會、澳門少年飛鷹會、 澳門基督教新生命團契、澳門循道衛理聯合教會社會服務處、聖公會澳門社會服務處、海傍區老人中心、僑總婦女委員會、澳門不動產管理專業技術人員協會、澳門物業管理專業人員協會、路環四廟慈善會、路環居民聯誼會、澳門遠洋漁業發展暨船東協會、漁民互助會、澳門餐飲業聯合商會、澳門中小型餐飲業商會、十月初五街區坊眾互助會、下環區坊眾互助會、水荷雀街區坊眾互助會、板營街區坊眾互助會、果欄六坊眾互助會、草堆六街坊眾互助會、新口岸區坊眾聯誼會、新馬路區坊眾互助會、福隆區坊眾互助會、澳門南灣西灣街區坊眾互助會、工聯北區綜合服務中心、聖若瑟大學、利瑪竇中學、海星中學、海暉學校、澳門工聯職業技術中學、鏡平學校小學部、澳門國際機場、澳門公共汽車股份有限公司、澳門新福利公共汽車有限公司、澳門清潔專營有限公司、澳門城市燃氣有限公司。\n",
      "---\n",
      "行政長官：澳葡友好合作關係開創新篇章 \n",
      "\n",
      "\n",
      "\n",
      "【新聞局】行政長官賀一誠在里斯本向傳媒總結葡萄牙訪問行程\n",
      "\n",
      "行政長官賀一誠於當地時間22日上午在里斯本向傳媒總結訪葡行程時表示，為期4天的行程卓有成效，進一步拓展澳葡雙方在經貿、科創、醫療、文化、葡語教育等領域的交流與合作，為鞏固和提升兩地的友好合作關係和深厚情誼開創了新篇章。\n",
      "行政長官表示，疫情過後外訪國家首選葡萄牙，是基於澳門與葡萄牙有着深厚的淵源及傳統友誼，兩地在多方面合作不斷，加上澳門特區多年來一直發揮着中國與葡語國家商貿合作服務平台的重要作用，今年亦是中國與葡語國家經貿合作論壇（澳門）成立20週年，而葡萄牙是最重要的葡語國家之一，所以葡萄牙作為外訪的首站，然後再轉往盧森堡和比利時訪問，以加強與這些國家的交流聯繫。\n",
      "行政長官表示，希望在新形勢下把握新的機遇，利用外訪推動中葡合作服務平台踏上新台階，為實現澳門經濟適度多元發展增添動力。在里斯本期間，分別拜會了葡萄牙總統、總理和外交部長、中國駐葡萄牙大使，與里斯本市長會面，彼此間進行了深入坦誠的交流。大家都共識澳葡之間需持續深化合作，進一步拓展雙方在經貿、科創、醫療和文化等領域的交流與合作。\n",
      "行政長官指出，澳門作為中葡平台，加上橫琴粵澳深度合作區，為澳門帶來更廣闊的發展空間。在與葡萄牙總統、總理等葡方官員的多場會面中，均向他們闡述了粵港澳大灣區、深合區的發展機遇，彼此亦就澳門及葡萄牙兩地企業聯手進入深合區尋求更大的合作空間等議題進行了意見交流。\n",
      "行政長官表示，會面期間還邀請了葡萄牙外交部長來澳共同主持澳葡聯合委員會第七次會議。另外，新一屆中葡論壇部長級會議爭取今年下半年或明年線下復辦，邀請葡方在會議日期落實後，派代表團來澳參與會議。\n",
      "行政長官在與里斯本市長卡洛斯‧莫達斯（Carlos Moedas）會面時，雙方就進一步發展里斯本與澳門的良好關係，明確提出未來加強在創新科技域、葡語教育推廣及市政管理三方面的合作交流。\n",
      "行政長官指出，市政管理是特區政府工作中的重要一環，澳門將持續向里斯本學習市政管理經驗，希望通過智能化及有效管理，全力做好市政工作。\n",
      "至於葡語教育推廣方面，行政長官表示，葡萄牙語也是澳門正式語文之一，澳門大量官方文件均有中葡雙語，而特區政府也一直支持葡語教學的發展及推廣。澳門目前77所非高等教育機構中，有36所設有葡文課程，而澳門的高等教育機構在葡萄牙語言、文化的推廣及中葡翻譯工作方面也不遺餘力。\n",
      "行政長官又表示，是次訪葡，特區政府組織了包括深合區政府及企業代表在內的企業家代表團赴里斯本和波爾圖進行商務交流，向兩地商界介紹澳門及深合區的最新情況和投資機遇。20日晚上特意與澳門企業代表團座談交流，初步檢視訪葡成效。成員一致感謝政府搭建舞台，助力拓展葡萄牙以至葡語國家的市場，並表示在接觸葡萄牙企業家時都感受到他們十分關注澳門和深合區的發展，期望到澳門、大灣區、深合區尋找商機，回澳後會研究更深入的交流合作形式。經濟財政司司長李偉農也會再與企業家代表團深入總結和檢視參觀成果，為未來鋪墊更好合作道路。\n",
      "行政長官表示，在葡期間就大健康產業、文旅會展商貿、教育等領域也進行了重點考察交流活動，包括參觀了大健康研究中心、出席了“澳門—葡萄牙投資及旅遊推介會”、澳大與里斯本大學簽署戰略合作框架協議儀式、聯合國世界旅遊組織與世界旅遊經濟論壇舉行合作發佈會，並與世界旅遊組織（UNWTO）秘書長祖拉布•波洛利卡什維利會面交流。\n",
      "現代金融方面，這次到訪葡萄牙儲金總局里斯本總部，介紹了目前特區政府採取的“1+4”經濟適度多元發展策略。在全面推進深合區建設中，現代金融是重要一環，近期出台的“橫琴金融30條”為深合區深化金融改革創新，為推進澳琴一體化提供堅實的政策支持。儲金總局和大西洋銀行都有興趣在澳加大投資及拓展業務至深合區，特別是大健康產業、葡萄牙藥廠等有潛質產業的資金支持，深化澳葡金融合作。\n",
      "行程期間，行政長官率領政府代表團與在葡升學的澳門大專學生會面交流。他指出，在葡學生是澳葡合作中不可或缺的重要組成部份，特區政府將一如既往支持和關心他們的成長和發展，也期望他們學成後能成為澳葡合作的新力量並作出新的貢獻，深入參與澳門和深合區，以至大灣區未來的建設發展當中，融入國家發展大局。\n",
      "行政長官強調，整體而言，葡萄牙的訪問卓有成效，打開了疫情後兩地的友誼和合作的新局面，也向國際社會展現“一國兩制”在澳門的成功實踐，對未來促進和深化澳葡在多個領域的交流與合作具有重要意義。\n",
      "---\n",
      "教青局舉辦“織理想･創未來”職業技術教育推廣日 \n",
      "\n",
      "為推廣澳門職業技術教育，增進市民、家長和師生等對高中職業技術教育的了解，教育及青年發展局於4月22日下午在路環石排灣職業技術教育活動中心舉辦“織理想･創未來”職業技術教育推廣日活動，藉以向各界展現澳門職業技術教育的發展現況和課程特色，展示學生的學習成果。\n",
      "是次推廣日由澳門9所開辦職業技術教育課程學校協辦，包括中葡職業技術學校、澳門演藝學院、澳門工聯職業技術中學、雷鳴道主教紀念學校、培華中學、澳門三育中學、澳門浸信中學、新華夜中學及創新中學。活動內容包括課程展位、學生作品展示及技能展示，展現職業技術教育的豐碩成果。同時，亦獲得包括澳門旅遊學院、澳門生產力暨科技轉移中心、澳門鏡湖護理學院、美高梅、澳娛綜合度假股份有限公司、永利渡假村（澳門）股份有限公司及金沙中國有限公司共7個參與職業技術教育發展的專業機構和企業的支持。各專業機構和企業分別派員帶領學生進行技能及教學展示，並提供體驗工作坊，讓參加者有機會動手體驗包括健康照顧、文創、機電維修、廚藝、會展及服裝形象等內容。除開幕儀式外，還有學生表演、畢業生分享及教學人員交流會等，讓“織理想･創未來”職業技術教育推廣日內容更見豐富。\n",
      "推廣日開幕儀式於當天下午2時半舉行，出席的嘉賓包括教青局副局長黃嘉祺，以及協辦學校領導代表、支持單位代表、教育委員會委員、青年事務委員會委員、澳門中華教育會代表、澳門天主教學校聯會代表、澳門公職教育協會代表以及各校代表等，整體活動共有接近800人次。黃嘉祺在開幕儀式致辭時表示，特區政府積極推進職業技術教育的發展，《非高等教育職業技術教育制度》已於2022年9月1日起生效，教青局持續推動學校配合澳門經濟發展的需要和政策方向開辦職業技術教育課程，使之更切合學生的生涯規劃發展、著重校企合作、建立與高等教育的銜接、加強職業技術教育的專業性和認受性、提高職業實習的成效；並與學校一起加強職業技術教育的宣傳，增加市民對職技課程的了解和認受，期望凝聚各方力量，合力提升職業技術教育的素質，引導學生走向“專業實踐、踏上成功”的專才之路。職技課程畢業的學生能同時取得高中學歷證書和專業技術資格證書的“雙證書”特點，對學生將來升學及職涯專業發展亦有獨特優勢。\n",
      "開幕儀式上，由就讀高中職業技術教育課程的學生，透過時裝作品展示、音樂和舞蹈演出等項目展示技能，展現適性教育的成果，獲得嘉賓及觀眾的一致讚賞。演出間場更安排了高中修讀職業技術課程、現為設計界及舞蹈界傑出代表歐俊軒和古雯欣分享。嘉賓在開幕儀式後參觀了場內各校的展位、體驗工作坊、學生作品及技能展示，現場氣氛熱鬧而溫馨，學生落力盡展創意和才華，現場參與者透過體驗工作坊，親身參與即席創作的樂趣。此外，大堂設有職業技術課程學校展位的專題展板，讓市民了解澳門開展職業技術課程學校的現況和分享教學成果。是次推廣日進一步發揮職業技術教育活動中心作為助力本澳職業技術教育發展的平台和功能性角色，中心自2020年第四季投入運作以來，職業技術教育活動中心（連同語言教學活動中心及石排灣營舍）累計使用超過43,000人次。\n",
      "---\n",
      "教青局關心台灣地區地震對澳生的影響 \n",
      "\n",
      "教青局關注今（22）日在台灣地區的地震，得悉地震發生後，隨即向當地澳生及相關社團聯絡了解情況。據有關社團反映，是次地震暫未對在台澳生造成影響，目前情況正常。教青局提醒在台澳生密切留意當地最新的公佈，注意個人安全，保持冷靜，留在安全的地方。\n",
      " \n",
      "教青局將密切留意情況，以及與當地澳生及相關社團保持聯絡，如有需要，將為學生提供適切的協助。學生如遇緊急情況，請即撥打台灣地區報警電話110。如有需要，可與學校人員聯絡，或聯絡澳門明愛大專僑生服務中心（電話：+886 2 7726 7726　/　緊急求助：0978456127；電郵：mocss1027@hotmail.com；Facebook：澳門明愛大專僑生服務中心），或致電澳門旅遊局24小時熱線：（853）2833 3000，或與教青局聯絡，電話：853-83969233（辦公時間）或電郵：studentblog@dsedj.gov.mo。\n",
      "---\n",
      "警情通告：訛稱外賣平台積分到期  司警局再次提醒市民提防偽冒短訊 \n",
      "\n",
      "繼早前多名市民收到假冒某消費積分及獎賞平台發送附有網站連結的詐騙短信後，司警局再次接獲舉報，事主稱收到懷疑假冒一外賣平台的短訊，同樣以積分到期須盡快換領獎賞為由，誘騙事主登入虛假網站並輸入手機號碼及信用卡資料以進行兌換，事主按指示輸入相關個人資料後，隨即收到金融機構通知信用卡出現不明消費記錄，懷疑信用卡資料經上述網站被盜取。經查，證實相關外賣平台並無發出上述短訊。\n",
      "近日電信網絡詐騙呈高發態勢，司警局再次呼籲市民，如手機接獲載有不明網站連 結的短訊，無論對方所聲稱的身分為何，均須提高警惕，切勿登入網站連結或提供任何個 人資料；若被要求提供信用卡資料、帳戶交易密碼、交易驗證碼，更要加倍謹慎，防止銀 行帳戶或信用卡被盜用。\n",
      "防騙提示：\n",
      "1. 登入任何網站前均應確認網站的真實性和安全度，多關注網絡安全資訊，提高個人防範意識；\n",
      "2. 切勿隨便登入來歷不明的網站並在網站內登記個人及信用卡資料，以防遭人盜用；\n",
      "3. 警惕假冒網站及釣魚網站，時刻留意網站網址是否與官方網站完全相符；\n",
      "4. 為手機、移動裝置或電腦安裝防毒軟件，並定期更新；\n",
      "5. 懷疑遇到詐騙或其他犯罪時，應立即致電司警局防詐騙查詢熱線8800 7777或報案熱線993求助。\n",
      "---\n",
      "澳門創意館參展香港國際授權展 助本澳IP品牌開拓國際商機 \n",
      "\n",
      "文化局首次組織本澳文創單位參與2023年香港國際授權展，設立“澳門創意館＂，透過展示多個本澳IP品牌及舉行推介會，助力本澳文創產品和服務提升知名度，開拓國際商機。\n",
      "授權展於4月19至21日在香港會議展覽中心舉行，全球超過500個品牌及授權項目參展。文化局組織10個具IP品牌的本澳文創單位赴港參與並設立“澳門創意館＂，期間舉辦多場IP品牌推介會，為參展單位媒合逾130間公司進行線上及線下商業洽談，當中46間公司有初步合作意向。\n",
      "文化局鼓勵本澳文創業界朝專業化及產業化發展，近年本澳IP品牌積極開發產品及拓展商業合作與銷售渠道，包括將IP結合本澳文化元素推出盲盒公仔、於本澳綜合度假村及澳門機場展銷產品、與內地酒店及不同企業以授權方式合作等，本澳IP品牌發展已具一定潛力。文化局將持續助力本澳創意產業的培育及儲備IP資源，擴大澳門文創企業和品牌的知名度及認受性。\n",
      "是次參展的本澳單位包括：植豆動畫一人有限公司、盤磯廣告策劃有限公司、南光文化創意產業有限公司、百強工作室一人有限公司、領同文化創意有限公司、梳打熊貓產品設計、半熟玩具有限公司、墨泉時尚有限公司、TICK設計有限公司及所羅門文化創意有限公司。\n",
      "---\n",
      "本澳昨（21）日沒有新增確診患者入住衛生局隔離治療設施 及因新型冠狀病毒感染離世個案 \n",
      "\n"
     ]
    },
    {
     "name": "stdout",
     "output_type": "stream",
     "text": [
      "新型冠狀病毒感染應變協調中心表示，本澳昨（21）日沒有新增新冠病毒確診患者入住衛生局的隔離治療設施，亦沒有因新型冠狀病毒感染離世的個案。\n",
      "---\n",
      "Done.\n"
     ]
    }
   ],
   "source": [
    "from bs4 import BeautifulSoup\n",
    "import requests\n",
    "\n",
    "\n",
    "res = requests.get(\"https://www.gcs.gov.mo/news/list/zh-hant/news/?2\")\n",
    "soup = BeautifulSoup(res.text, \"html.parser\")\n",
    "\n",
    "table_news = soup.select_one(\"table\")\n",
    "for news_headline in table_news.select('a.baseInfo'):\n",
    "    nl = news_headline.select_one('span.txt')\n",
    "    print(nl.getText().strip(),'\\n')\n",
    "0\n",
    "   \n",
    "    # Fetch the content\n",
    "    href = news_headline[\"href\"]\n",
    "    res = requests.get(\"https://www.gcs.gov.mo/\" + href)\n",
    "    soup2 = BeautifulSoup(res.text,\"html.parser\")\n",
    "    content = soup2.find('div',{'class':'cell baseContent baseSize text-justify content NEWS'})\n",
    "    \n",
    "#     soup2 = BeautifulSoup(res.text, \"html.parser\")\n",
    "#     content = soup2.select_one(\".asideBody p:first-of-type\")\n",
    "    print(content.text)\n",
    "    print(\"---\")\n",
    "\n",
    "print(\"Done.\")"
   ]
  },
  {
   "cell_type": "markdown",
   "metadata": {},
   "source": [
    "## Fetching Macao Daily news"
   ]
  },
  {
   "cell_type": "code",
   "execution_count": 63,
   "metadata": {},
   "outputs": [
    {
     "name": "stdout",
     "output_type": "stream",
     "text": [
      "2023-04-23 第A01版：澳聞  “水晶魚”演習達效\n",
      "2023-04-23 第A01版：澳聞  黃司促三日交報吿完善計劃\n",
      "2023-04-23 第A03版：澳聞  “水晶魚演習”增安全意識\n",
      "2023-04-23 第A09版：澳聞  （新聞小語）推進防災基建增城市安全\n"
     ]
    }
   ],
   "source": [
    "from bs4 import BeautifulSoup\n",
    "import requests\n",
    "import datetime\n",
    "\n",
    "def findNewsTitle(targetKeyword):\n",
    "    today = datetime.date.today()\n",
    "    year = today.year\n",
    "    month = today.month\n",
    "    day = today.day\n",
    "\n",
    "    month = str(month).zfill(2)\n",
    "    day = str(day).zfill(2)    \n",
    "    res = requests.get(f\"http://www.macaodaily.com/html/{year}-{month}/{day}/node_1.htm\")\n",
    "    res.encoding = \"utf-8\"\n",
    "\n",
    "    soup = BeautifulSoup(res.text, \"html.parser\") # Be aware that you may need a different parser if \"lxml\" not found.\n",
    "\n",
    "    links = soup.select(\"table #all_article_list a\")\n",
    "    for link in links:\n",
    "        if 'content' in link['href']:\n",
    "            res = requests.get(f'http://www.macaodaily.com/html/{year}-{month}/{day}/{link[\"href\"]}')\n",
    "            res.encoding = 'utf-8'\n",
    "            content_soup = BeautifulSoup(res.text, 'html')\n",
    "            \n",
    "            content = content_soup.find('div',{'id':'ozoom'})\n",
    "            subtitle = content_soup.find('table',{'id': 'table22'}).find('td',{'class':'px12'})\n",
    "            \n",
    "            if targetKeyword in (content.text):\n",
    "                print (datetime.date.today().isoformat()\n",
    "                       ,subtitle.text\n",
    "                       , link.text)\n",
    " \n",
    "findNewsTitle('水晶魚')\n",
    "        "
   ]
  },
  {
   "cell_type": "markdown",
   "metadata": {},
   "source": [
    "## ✏️ Exercise time: Lab 3"
   ]
  },
  {
   "cell_type": "markdown",
   "metadata": {},
   "source": [
    "1. Please try to execute the code to see the program result.\n",
    "1. Please try to change the keyword inside the code to fetch different queries.\n",
    "1. Please try to make the code more flexible by changing the date and query into input.\n",
    "1. Please try to save the result into a text file.\n",
    "1. Please try to change the code to allow multiple searches until user enters \"q\"."
   ]
  },
  {
   "cell_type": "code",
   "execution_count": 46,
   "metadata": {},
   "outputs": [
    {
     "name": "stdout",
     "output_type": "stream",
     "text": [
      "2020-06-01: 穗力推大灣區軌道交通融合\n",
      "2020-06-07: 穗市長：四領域推進大灣區建設\n",
      "2020-06-09: 全國政協調研大灣區創新合作\n",
      "2020-06-09: 大灣區葡語教育聯盟成立\n",
      "2020-06-14: 粵發佈大灣區文遺遊徑\n",
      "2020-06-14: 再現大灣區詩歌地圖\n",
      "Finished.\n"
     ]
    }
   ],
   "source": [
    "from bs4 import BeautifulSoup\n",
    "import requests\n",
    "\n",
    "# Task 1: Change year and month into input\n",
    "year = \"2020\"\n",
    "month = \"06\"\n",
    "\n",
    "for i in range(1,32):\n",
    "    day = str(i).zfill(2)    \n",
    "    res = requests.get(f\"http://www.macaodaily.com/html/{year}-{month}/{day}/node_1.htm\")\n",
    "\n",
    "    res.encoding = \"utf-8\"\n",
    "\n",
    "    soup = BeautifulSoup(res.text, \"html.parser\")\n",
    "\n",
    "    links = soup.select(\"#all_article_list a\")\n",
    "    for link in links:\n",
    "        news_title = link.getText()\n",
    "\n",
    "        # Task 2: Change keyword into input\n",
    "        if \"大灣區\" in news_title:\n",
    "            # Task 3: Save the result in TXT intead of printing out.\n",
    "            print(f\"{year}-{month}-{day}: {news_title}\")\n",
    "\n",
    "print(\"Finished.\")\n"
   ]
  },
  {
   "cell_type": "markdown",
   "metadata": {},
   "source": [
    "Solution to Lab 3\n",
    "\n",
    "https://makclass.com/vimeo_players/335074765"
   ]
  },
  {
   "cell_type": "markdown",
   "metadata": {},
   "source": [
    "## When is the next holiday?"
   ]
  },
  {
   "cell_type": "code",
   "execution_count": 10,
   "metadata": {},
   "outputs": [
    {
     "name": "stdout",
     "output_type": "stream",
     "text": [
      " 接下來的公眾假期星期四25六月端午節公眾假期\n"
     ]
    }
   ],
   "source": [
    "import datetime\n",
    "\n",
    "url = f\"https://www.gov.mo/zh-hant/public-holidays/year-{datetime.date.today().year}/\"\n",
    "response = requests.get(url)\n",
    "soup = BeautifulSoup(response.text, \"html.parser\")\n",
    "\n",
    "print(soup.select(\"#public-holidays\")[0].text.replace('\\n',''))"
   ]
  },
  {
   "cell_type": "code",
   "execution_count": 11,
   "metadata": {},
   "outputs": [
    {
     "name": "stdout",
     "output_type": "stream",
     "text": [
      "接下來的公眾假期：端午節, 六月25日星期四\n"
     ]
    }
   ],
   "source": [
    "month = soup.select(\"#public-holidays .month\")[0].text\n",
    "day = soup.select(\"#public-holidays .day\")[0].text\n",
    "weekday = soup.select(\"#public-holidays .weekday\")[0].text\n",
    "description = soup.select(\"#next-holiday-description strong\")[0].text\n",
    "\n",
    "print(f\"接下來的公眾假期：{description}, {month}{day}日{weekday}\")"
   ]
  },
  {
   "cell_type": "markdown",
   "metadata": {},
   "source": [
    "## A list of holidays in Macao"
   ]
  },
  {
   "cell_type": "code",
   "execution_count": 4,
   "metadata": {},
   "outputs": [
    {
     "name": "stdout",
     "output_type": "stream",
     "text": [
      "1月1日: 元旦\n",
      "1月25日: 農曆正月初一\n",
      "1月26日: 農曆正月初二\n",
      "1月27日: 農曆正月初三\n",
      "4月4日: 清明節\n",
      "4月10日: 耶穌受難日\n",
      "4月11日: 復活節前日\n",
      "4月30日: 佛誕節\n",
      "5月1日: 勞動節\n",
      "6月25日: 端午節\n",
      "10月1日: 中華人民共和國國慶日\n",
      "10月2日: 中華人民共和國國慶日翌日\n",
      "10月2日: 中秋節翌日\n",
      "10月25日: 重陽節\n",
      "11月2日: 追思節\n",
      "12月8日: 聖母無原罪瞻禮\n",
      "12月20日: 澳門特別行政區成立紀念日\n",
      "12月21日: 冬至\n",
      "12月24日: 聖誕節前日\n",
      "12月25日: 聖誕節\n"
     ]
    }
   ],
   "source": [
    "import requests\n",
    "from bs4 import BeautifulSoup\n",
    "\n",
    "response = requests.get(\"https://www.gov.mo/zh-hant/public-holidays/year-2020/\")\n",
    "soup = BeautifulSoup(response.text, \"html.parser\")\n",
    "\n",
    "tables = soup.select(\".table\")\n",
    "\n",
    "for row in tables[0].select(\"tr\"):\n",
    "    if len(row.select(\"td\")) > 0:\n",
    "        date = row.select(\"td\")[1].text\n",
    "        name = row.select(\"td\")[3].text\n",
    "        print(f\"{date}: {name}\")\n",
    "  "
   ]
  },
  {
   "cell_type": "markdown",
   "metadata": {},
   "source": [
    "Only listing obligatory holidays"
   ]
  },
  {
   "cell_type": "code",
   "execution_count": 13,
   "metadata": {},
   "outputs": [
    {
     "name": "stdout",
     "output_type": "stream",
     "text": [
      "1月1日: 元旦\n",
      "1月25日: 農曆正月初一\n",
      "1月26日: 農曆正月初二\n",
      "1月27日: 農曆正月初三\n",
      "4月4日: 清明節\n",
      "5月1日: 勞動節\n",
      "10月1日: 中華人民共和國國慶日\n",
      "10月2日: 中秋節翌日\n",
      "10月25日: 重陽節\n",
      "12月20日: 澳門特別行政區成立紀念日\n"
     ]
    }
   ],
   "source": [
    "import requests\n",
    "from bs4 import BeautifulSoup\n",
    "\n",
    "response = requests.get(\"https://www.gov.mo/zh-hant/public-holidays/year-2020/\")\n",
    "soup = BeautifulSoup(response.text, \"html.parser\")\n",
    "\n",
    "tables = soup.select(\".table\")\n",
    "\n",
    "for row in tables[0].select(\"tr\"):\n",
    "    if len(row.select(\"td\")) > 0:\n",
    "        is_obligatory = (row.select(\"td\")[0].text == \"*\")\n",
    "        if is_obligatory:\n",
    "            date = row.select(\"td\")[1].text\n",
    "            name = row.select(\"td\")[3].text\n",
    "            print(f\"{date}: {name}\")\n",
    "  "
   ]
  },
  {
   "cell_type": "markdown",
   "metadata": {},
   "source": [
    "## Is today government holiday?"
   ]
  },
  {
   "cell_type": "code",
   "execution_count": 14,
   "metadata": {},
   "outputs": [
    {
     "name": "stdout",
     "output_type": "stream",
     "text": [
      "6月22日\n",
      "今天是星期日，但不是公眾假期。\n"
     ]
    }
   ],
   "source": [
    "import requests\n",
    "from bs4 import BeautifulSoup\n",
    "import datetime\n",
    "\n",
    "# Get today's year, month and day\n",
    "today = datetime.date.today()\n",
    "year = today.year\n",
    "month = today.month\n",
    "day = today.day\n",
    "today_weekday = today.weekday()\n",
    "today_date = f\"{month}月{day}日\"\n",
    "\n",
    "\n",
    "# Fetch gov.mo\n",
    "url = f\"https://www.gov.mo/zh-hant/public-holidays/year-{year}/\"\n",
    "response = requests.get(url)\n",
    "soup = BeautifulSoup(response.text, \"html.parser\")\n",
    "\n",
    "tables = soup.select(\".table\")\n",
    "\n",
    "holidays = {}\n",
    "\n",
    "for table in tables:\n",
    "    for row in table.select(\"tr\"):\n",
    "        if len(row.select(\"td\")) > 0:    \n",
    "            date = row.select(\"td\")[1].text\n",
    "            weekday = row.select(\"td\")[2].text\n",
    "            name = row.select(\"td\")[3].text\n",
    "            holidays[date] = name\n",
    "\n",
    "\n",
    "# Query holidays\n",
    "print(today_date)\n",
    "if today_date in holidays:\n",
    "    holiday = holidays[today_date]\n",
    "    print(f\"今天是公眾假期：{holiday}\")\n",
    "elif today_weekday == 0:\n",
    "    print(\"今天是星期日，但不是公眾假期。\")\n",
    "elif today_weekday == 6:\n",
    "    print(\"今天是星期六，但不是公眾假期。\")  \n",
    "else:\n",
    "    print(\"今天不是公眾假期。\")"
   ]
  },
  {
   "cell_type": "markdown",
   "metadata": {},
   "source": [
    "Our code is getting longer now. We can group the parts of the code that fetch gov.mo into a function. We name it `is_macao_holiday` and take a date parameter."
   ]
  },
  {
   "cell_type": "code",
   "execution_count": 15,
   "metadata": {},
   "outputs": [],
   "source": [
    "def is_macao_holiday(query_date):    \n",
    "    # Fetch gov.mo\n",
    "    url = f\"https://www.gov.mo/zh-hant/public-holidays/year-{query_date.year}/\"\n",
    "    response = requests.get(url)\n",
    "    soup = BeautifulSoup(response.text, \"html.parser\")\n",
    "\n",
    "    tables = soup.select(\".table\")\n",
    "\n",
    "    holidays = {}\n",
    "\n",
    "    for table in tables:\n",
    "        for row in table.select(\"tr\"):\n",
    "            if len(row.select(\"td\")) > 0:    \n",
    "                date = row.select(\"td\")[1].text\n",
    "                weekday = row.select(\"td\")[2].text\n",
    "                name = row.select(\"td\")[3].text\n",
    "                holidays[date] = name\n",
    "\n",
    "\n",
    "    # Query holidays\n",
    "    date_key = f\"{query_date.month}月{query_date.day}日\"\n",
    "\n",
    "    if date_key in holidays:        \n",
    "        holiday = holidays[date_key]\n",
    "        print(f\"{date_key}是公眾假期：{holiday}\")\n",
    "    elif query_date.weekday() == 0:\n",
    "        print(f\"{date_key}是星期日，但不是公眾假期。\")\n",
    "    elif query_date.weekday() == 6:\n",
    "        print(f\"{date_key}是星期六，但不是公眾假期。\")  \n",
    "    else:\n",
    "        print(f\"{date_key}不是公眾假期。\")"
   ]
  },
  {
   "cell_type": "code",
   "execution_count": 11,
   "metadata": {},
   "outputs": [
    {
     "name": "stdout",
     "output_type": "stream",
     "text": [
      "6月18日不是公眾假期。\n"
     ]
    }
   ],
   "source": [
    "is_macao_holiday(datetime.date.today())"
   ]
  },
  {
   "cell_type": "markdown",
   "metadata": {},
   "source": [
    "### Picking a date other than today"
   ]
  },
  {
   "cell_type": "markdown",
   "metadata": {},
   "source": [
    "We can use parser in `dateutil` to parse a given date in string format into date format."
   ]
  },
  {
   "cell_type": "code",
   "execution_count": 12,
   "metadata": {},
   "outputs": [
    {
     "name": "stdout",
     "output_type": "stream",
     "text": [
      "1月1日是公眾假期：元旦\n"
     ]
    }
   ],
   "source": [
    "import dateutil\n",
    "date = dateutil.parser.parse(\"2020-01-01\")\n",
    "is_macao_holiday(date)"
   ]
  },
  {
   "cell_type": "code",
   "execution_count": 13,
   "metadata": {},
   "outputs": [
    {
     "name": "stdout",
     "output_type": "stream",
     "text": [
      "10月26日是公眾假期：重陽節的補假\n"
     ]
    }
   ],
   "source": [
    "import dateutil\n",
    "date = dateutil.parser.parse(\"2020-10-26\")\n",
    "is_macao_holiday(date)"
   ]
  },
  {
   "cell_type": "markdown",
   "metadata": {},
   "source": [
    "Futhermore, we can store the result in dictionary for further querying."
   ]
  },
  {
   "cell_type": "code",
   "execution_count": 16,
   "metadata": {},
   "outputs": [],
   "source": [
    "import requests\n",
    "from bs4 import BeautifulSoup\n",
    "import datetime\n",
    "\n",
    "# Get today's year, month and day\n",
    "today = datetime.date.today()\n",
    "year = today.year\n",
    "month = today.month\n",
    "day = today.day\n",
    "today_weekday = today.weekday()\n",
    "today_date = f\"{month}月{day}日\"\n",
    "\n",
    "\n",
    "# Fetch gov.mo\n",
    "url = f\"https://www.gov.mo/zh-hant/public-holidays/year-{year}/\"\n",
    "response = requests.get(url)\n",
    "soup = BeautifulSoup(response.text, \"html.parser\")\n",
    "\n",
    "tables = soup.select(\".table\")\n",
    "\n",
    "holidays = {}\n",
    "\n",
    "for table in tables:\n",
    "    for row in table.select(\"tr\"):\n",
    "        if len(row.select(\"td\")) > 0:    \n",
    "            is_obligatory = (row.select(\"td\")[0].text == \"*\")\n",
    "            date = row.select(\"td\")[1].text\n",
    "            weekday = row.select(\"td\")[2].text\n",
    "            name = row.select(\"td\")[3].text\n",
    "            holidays[date] = {\n",
    "                'date': date,\n",
    "                'weekday': weekday,\n",
    "                'name': name,\n",
    "                'is_obligatory': is_obligatory,\n",
    "            }\n",
    "\n"
   ]
  },
  {
   "cell_type": "markdown",
   "metadata": {},
   "source": [
    "The result is stored in dictionary `holidays`."
   ]
  },
  {
   "cell_type": "code",
   "execution_count": 17,
   "metadata": {},
   "outputs": [
    {
     "data": {
      "text/plain": [
       "28"
      ]
     },
     "execution_count": 17,
     "metadata": {},
     "output_type": "execute_result"
    }
   ],
   "source": [
    "len(holidays)"
   ]
  },
  {
   "cell_type": "code",
   "execution_count": 18,
   "metadata": {},
   "outputs": [
    {
     "data": {
      "text/plain": [
       "{'1月1日': {'date': '1月1日',\n",
       "  'weekday': '星期三',\n",
       "  'name': '元旦',\n",
       "  'is_obligatory': True},\n",
       " '1月25日': {'date': '1月25日',\n",
       "  'weekday': '星期六',\n",
       "  'name': '農曆正月初一',\n",
       "  'is_obligatory': True},\n",
       " '1月26日': {'date': '1月26日',\n",
       "  'weekday': '星期日',\n",
       "  'name': '農曆正月初二',\n",
       "  'is_obligatory': True},\n",
       " '1月27日': {'date': '1月27日',\n",
       "  'weekday': '星期一',\n",
       "  'name': '農曆正月初三',\n",
       "  'is_obligatory': True},\n",
       " '4月4日': {'date': '4月4日',\n",
       "  'weekday': '星期六',\n",
       "  'name': '清明節',\n",
       "  'is_obligatory': True},\n",
       " '4月10日': {'date': '4月10日',\n",
       "  'weekday': '星期五',\n",
       "  'name': '耶穌受難日',\n",
       "  'is_obligatory': False},\n",
       " '4月11日': {'date': '4月11日',\n",
       "  'weekday': '星期六',\n",
       "  'name': '復活節前日',\n",
       "  'is_obligatory': False},\n",
       " '4月30日': {'date': '4月30日',\n",
       "  'weekday': '星期四',\n",
       "  'name': '佛誕節',\n",
       "  'is_obligatory': False},\n",
       " '5月1日': {'date': '5月1日',\n",
       "  'weekday': '星期五',\n",
       "  'name': '勞動節',\n",
       "  'is_obligatory': True},\n",
       " '6月25日': {'date': '6月25日',\n",
       "  'weekday': '星期四',\n",
       "  'name': '端午節',\n",
       "  'is_obligatory': False},\n",
       " '10月1日': {'date': '10月1日',\n",
       "  'weekday': '星期四',\n",
       "  'name': '中華人民共和國國慶日',\n",
       "  'is_obligatory': True},\n",
       " '10月2日': {'date': '10月2日',\n",
       "  'weekday': '星期五',\n",
       "  'name': '中秋節翌日',\n",
       "  'is_obligatory': True},\n",
       " '10月25日': {'date': '10月25日',\n",
       "  'weekday': '星期日',\n",
       "  'name': '重陽節',\n",
       "  'is_obligatory': True},\n",
       " '11月2日': {'date': '11月2日',\n",
       "  'weekday': '星期一',\n",
       "  'name': '追思節',\n",
       "  'is_obligatory': False},\n",
       " '12月8日': {'date': '12月8日',\n",
       "  'weekday': '星期二',\n",
       "  'name': '聖母無原罪瞻禮',\n",
       "  'is_obligatory': False},\n",
       " '12月20日': {'date': '12月20日',\n",
       "  'weekday': '星期日',\n",
       "  'name': '澳門特別行政區成立紀念日',\n",
       "  'is_obligatory': True},\n",
       " '12月21日': {'date': '12月21日',\n",
       "  'weekday': '星期一',\n",
       "  'name': '冬至',\n",
       "  'is_obligatory': False},\n",
       " '12月24日': {'date': '12月24日',\n",
       "  'weekday': '星期四',\n",
       "  'name': '聖誕節前日',\n",
       "  'is_obligatory': False},\n",
       " '12月25日': {'date': '12月25日',\n",
       "  'weekday': '星期五',\n",
       "  'name': '聖誕節',\n",
       "  'is_obligatory': False},\n",
       " '1月24日（下午）': {'date': '1月24日（下午）',\n",
       "  'weekday': '星期五',\n",
       "  'name': '農曆除夕',\n",
       "  'is_obligatory': False},\n",
       " '10月5日': {'date': '10月5日',\n",
       "  'weekday': '星期一',\n",
       "  'name': '中華人民共和國國慶日翌日及中秋節翌日重疊',\n",
       "  'is_obligatory': False},\n",
       " '12月31日（下午）': {'date': '12月31日（下午）',\n",
       "  'weekday': '星期四',\n",
       "  'name': '除夕',\n",
       "  'is_obligatory': False},\n",
       " '1月28日': {'date': '1月28日',\n",
       "  'weekday': '星期二',\n",
       "  'name': '農曆正月初一的補假',\n",
       "  'is_obligatory': False},\n",
       " '1月29日': {'date': '1月29日',\n",
       "  'weekday': '星期三',\n",
       "  'name': '農曆正月初二的補假',\n",
       "  'is_obligatory': False},\n",
       " '4月6日': {'date': '4月6日',\n",
       "  'weekday': '星期一',\n",
       "  'name': '清明節的補假',\n",
       "  'is_obligatory': False},\n",
       " '4月13日': {'date': '4月13日',\n",
       "  'weekday': '星期一',\n",
       "  'name': '復活節前日的補假',\n",
       "  'is_obligatory': False},\n",
       " '10月26日': {'date': '10月26日',\n",
       "  'weekday': '星期一',\n",
       "  'name': '重陽節的補假',\n",
       "  'is_obligatory': False},\n",
       " '12月22日': {'date': '12月22日',\n",
       "  'weekday': '星期二',\n",
       "  'name': '澳門特別行政區成立紀念日的補假',\n",
       "  'is_obligatory': False}}"
      ]
     },
     "execution_count": 18,
     "metadata": {},
     "output_type": "execute_result"
    }
   ],
   "source": [
    "holidays"
   ]
  },
  {
   "cell_type": "code",
   "execution_count": 19,
   "metadata": {},
   "outputs": [
    {
     "name": "stdout",
     "output_type": "stream",
     "text": [
      "6月22日\n",
      "今天是星期日，但不是公眾假期。\n"
     ]
    }
   ],
   "source": [
    "# Query holidays\n",
    "print(today_date)\n",
    "if today_date in holidays:\n",
    "    holiday = holidays[today_date]\n",
    "    if holiday['is_obligatory']:\n",
    "        print(f\"今天是強制公眾假期：{holiday['name']}\")\n",
    "    else:\n",
    "        print(f\"今天是公眾假期：{holiday['name']}\")\n",
    "elif today_weekday == 0:\n",
    "    print(\"今天是星期日，但不是公眾假期。\")\n",
    "elif today_weekday == 6:\n",
    "    print(\"今天是星期六，但不是公眾假期。\")  \n",
    "else:\n",
    "    print(\"今天不是公眾假期。\")"
   ]
  },
  {
   "cell_type": "markdown",
   "metadata": {},
   "source": [
    "## Summary\n",
    "\n",
    "In this lesson, we learned about using BeautifulSoup to extract data from the web."
   ]
  }
 ],
 "metadata": {
  "kernelspec": {
   "display_name": "Python 3 (ipykernel)",
   "language": "python",
   "name": "python3"
  },
  "language_info": {
   "codemirror_mode": {
    "name": "ipython",
    "version": 3
   },
   "file_extension": ".py",
   "mimetype": "text/x-python",
   "name": "python",
   "nbconvert_exporter": "python",
   "pygments_lexer": "ipython3",
   "version": "3.10.9"
  }
 },
 "nbformat": 4,
 "nbformat_minor": 4
}
